{
  "nbformat": 4,
  "nbformat_minor": 0,
  "metadata": {
    "colab": {
      "provenance": []
    },
    "kernelspec": {
      "name": "python3",
      "display_name": "Python 3"
    },
    "language_info": {
      "name": "python"
    }
  },
  "cells": [
    {
      "cell_type": "markdown",
      "source": [
        "## Conectar al Drive para acceder a los datos"
      ],
      "metadata": {
        "id": "PAqooMtQSaRH"
      }
    },
    {
      "cell_type": "code",
      "execution_count": 1,
      "metadata": {
        "colab": {
          "base_uri": "https://localhost:8080/"
        },
        "id": "7P6nGwThRtVk",
        "outputId": "e5c5157d-8038-4afb-f115-6ac821482113"
      },
      "outputs": [
        {
          "output_type": "stream",
          "name": "stdout",
          "text": [
            "Mounted at /content/drive\n"
          ]
        }
      ],
      "source": [
        "\n",
        "try:\n",
        "    from google.colab import drive\n",
        "    drive.mount('/content/drive')\n",
        "    BASE = \"/content/drive/MyDrive\"\n",
        "except Exception as e:\n",
        "    print(\"No estás en Colab o ya está montado. Usa ruta local.\")\n",
        "    BASE = \".\"\n"
      ]
    },
    {
      "cell_type": "code",
      "source": [
        "import os, glob\n",
        "import pandas as pd\n",
        "import unicodedata\n",
        "\n",
        "# Carpeta donde están los Excel\n",
        "CARPETA = os.path.join(BASE, \"DATA_LIMPIEZA\")\n",
        "\n",
        "# Busca sólo .xlsx (si tuvieras .xls cambia el patrón o agrega otro glob)\n",
        "rutas = sorted(glob.glob(os.path.join(CARPETA, \"*.xlsx\")))\n",
        "\n",
        "print(f\"Encontrados {len(rutas)} archivos en: {CARPETA}\")\n",
        "for r in rutas[:3]:\n",
        "    print(\"•\", os.path.basename(r))\n"
      ],
      "metadata": {
        "colab": {
          "base_uri": "https://localhost:8080/"
        },
        "id": "NSPkaKBfSlv1",
        "outputId": "587f403c-113a-4d3a-87dc-ffd6049735dc"
      },
      "execution_count": 2,
      "outputs": [
        {
          "output_type": "stream",
          "name": "stdout",
          "text": [
            "Encontrados 23 archivos en: /content/drive/MyDrive/DATA_LIMPIEZA\n",
            "• CuidadCapital.xlsx\n",
            "• Elprogreso.xlsx\n",
            "• Guatemala.xlsx\n"
          ]
        }
      ]
    },
    {
      "cell_type": "markdown",
      "source": [
        "## Normalizar los nombre de archivos"
      ],
      "metadata": {
        "id": "nf9mM_DRS-bh"
      }
    },
    {
      "cell_type": "code",
      "source": [
        "def normaliza(texto: str) -> str:\n",
        "    if texto is None:\n",
        "        return \"\"\n",
        "    # quita acentos\n",
        "    texto = unicodedata.normalize(\"NFKD\", texto)\n",
        "    texto = \"\".join(ch for ch in texto if not unicodedata.combining(ch))\n",
        "    # limpieza básica\n",
        "    texto = texto.strip()\n",
        "    texto = texto.replace(\"\\n\", \" \").replace(\"\\r\", \" \")\n",
        "    # espacios -> guiones bajos, minúsculas\n",
        "    texto = \"_\".join(texto.split())\n",
        "    return texto.lower()\n"
      ],
      "metadata": {
        "id": "TRsUyNXaS0ij"
      },
      "execution_count": 3,
      "outputs": []
    },
    {
      "cell_type": "markdown",
      "source": [
        "## Mapea cada uno de ellos y muestra sus encabezados, Si hay una columna vacia la elimina"
      ],
      "metadata": {
        "id": "55jt1lZqTJDD"
      }
    },
    {
      "cell_type": "code",
      "source": [
        "encabezados_por_archivo = []  # lista de dicts para DataFrame resumen\n",
        "\n",
        "for ruta in rutas:\n",
        "    nombre = os.path.basename(ruta)\n",
        "    try:\n",
        "        # Lee solo encabezados (nrows=0) de la PRIMERA hoja\n",
        "        df0 = pd.read_excel(ruta, sheet_name=0, nrows=0, engine=\"openpyxl\")\n",
        "\n",
        "        # Detectar columnas Unnamed\n",
        "        cols_original = list(map(str, df0.columns.tolist()))\n",
        "        cols_unnamed = [c for c in cols_original if c.startswith(\"Unnamed\")]\n",
        "\n",
        "        if cols_unnamed:\n",
        "            print(f\"\\n⚠ {nombre} contiene columnas vacías: {cols_unnamed}\")\n",
        "            # Eliminar columnas Unnamed\n",
        "            df0 = df0.loc[:, ~df0.columns.str.contains('^Unnamed')]\n",
        "            # Actualizar lista de columnas originales sin las vacías\n",
        "            cols_original = list(map(str, df0.columns.tolist()))\n",
        "\n",
        "        # Normalizar nombres\n",
        "        cols_normal = [normaliza(c) for c in cols_original]\n",
        "\n",
        "        print(f\"\\n===== {nombre} =====\")\n",
        "        print(\"Encabezados (limpios):\")\n",
        "        print(cols_original)\n",
        "\n",
        "        encabezados_por_archivo.append({\n",
        "            \"archivo\": nombre,\n",
        "            \"num_columnas\": len(cols_original),\n",
        "            \"encabezados_original\": cols_original,\n",
        "            \"encabezados_normalizado\": cols_normal,\n",
        "            \"set_normalizado\": tuple(sorted(set(cols_normal))),\n",
        "        })\n",
        "\n",
        "    except Exception as e:\n",
        "        print(f\"\\n===== {nombre} =====\")\n",
        "        print(\"ERROR al leer:\", e)\n"
      ],
      "metadata": {
        "colab": {
          "base_uri": "https://localhost:8080/"
        },
        "id": "g0z3UKXoS3CO",
        "outputId": "291bc042-7662-451a-cc45-86a9546770f6"
      },
      "execution_count": 6,
      "outputs": [
        {
          "output_type": "stream",
          "name": "stdout",
          "text": [
            "\n",
            "⚠ CuidadCapital.xlsx contiene columnas vacías: ['Unnamed: 1']\n",
            "\n",
            "===== CuidadCapital.xlsx =====\n",
            "Encabezados (limpios):\n",
            "['CODIGO', 'DISTRITO', 'DEPARTAMENTO', 'MUNICIPIO', 'ESTABLECIMIENTO', 'DIRECCION', 'TELEFONO', 'SUPERVISOR', 'DIRECTOR', 'NIVEL', 'SECTOR', 'AREA', 'STATUS', 'MODALIDAD', 'JORNADA', 'PLAN', 'DEPARTAMENTAL']\n",
            "\n",
            "⚠ Elprogreso.xlsx contiene columnas vacías: ['Unnamed: 1']\n",
            "\n",
            "===== Elprogreso.xlsx =====\n",
            "Encabezados (limpios):\n",
            "['CODIGO', 'DISTRITO', 'DEPARTAMENTO', 'MUNICIPIO', 'ESTABLECIMIENTO', 'DIRECCION', 'TELEFONO', 'SUPERVISOR', 'DIRECTOR', 'NIVEL', 'SECTOR', 'AREA', 'STATUS', 'MODALIDAD', 'JORNADA', 'PLAN', 'DEPARTAMENTAL']\n",
            "\n",
            "⚠ Guatemala.xlsx contiene columnas vacías: ['Unnamed: 1']\n",
            "\n",
            "===== Guatemala.xlsx =====\n",
            "Encabezados (limpios):\n",
            "['CODIGO', 'DISTRITO', 'DEPARTAMENTO', 'MUNICIPIO', 'ESTABLECIMIENTO', 'DIRECCION', 'TELEFONO', 'SUPERVISOR', 'DIRECTOR', 'NIVEL', 'SECTOR', 'AREA', 'STATUS', 'MODALIDAD', 'JORNADA', 'PLAN', 'DEPARTAMENTAL']\n",
            "\n",
            "⚠ Izabal.xlsx contiene columnas vacías: ['Unnamed: 1']\n",
            "\n",
            "===== Izabal.xlsx =====\n",
            "Encabezados (limpios):\n",
            "['CODIGO', 'DISTRITO', 'DEPARTAMENTO', 'MUNICIPIO', 'ESTABLECIMIENTO', 'DIRECCION', 'TELEFONO', 'SUPERVISOR', 'DIRECTOR', 'NIVEL', 'SECTOR', 'AREA', 'STATUS', 'MODALIDAD', 'JORNADA', 'PLAN', 'DEPARTAMENTAL']\n",
            "\n",
            "⚠ Quetzaltenango.xlsx contiene columnas vacías: ['Unnamed: 1']\n",
            "\n",
            "===== Quetzaltenango.xlsx =====\n",
            "Encabezados (limpios):\n",
            "['CODIGO', 'DISTRITO', 'DEPARTAMENTO', 'MUNICIPIO', 'ESTABLECIMIENTO', 'DIRECCION', 'TELEFONO', 'SUPERVISOR', 'DIRECTOR', 'NIVEL', 'SECTOR', 'AREA', 'STATUS', 'MODALIDAD', 'JORNADA', 'PLAN', 'DEPARTAMENTAL']\n",
            "\n",
            "⚠ Quiche.xlsx contiene columnas vacías: ['Unnamed: 1']\n",
            "\n",
            "===== Quiche.xlsx =====\n",
            "Encabezados (limpios):\n",
            "['CODIGO', 'DISTRITO', 'DEPARTAMENTO', 'MUNICIPIO', 'ESTABLECIMIENTO', 'DIRECCION', 'TELEFONO', 'SUPERVISOR', 'DIRECTOR', 'NIVEL', 'SECTOR', 'AREA', 'STATUS', 'MODALIDAD', 'JORNADA', 'PLAN', 'DEPARTAMENTAL']\n",
            "\n",
            "⚠ Sanmarcos.xlsx contiene columnas vacías: ['Unnamed: 1']\n",
            "\n",
            "===== Sanmarcos.xlsx =====\n",
            "Encabezados (limpios):\n",
            "['CODIGO', 'DISTRITO', 'DEPARTAMENTO', 'MUNICIPIO', 'ESTABLECIMIENTO', 'DIRECCION', 'TELEFONO', 'SUPERVISOR', 'DIRECTOR', 'NIVEL', 'SECTOR', 'AREA', 'STATUS', 'MODALIDAD', 'JORNADA', 'PLAN', 'DEPARTAMENTAL']\n",
            "\n",
            "⚠ Santarosa.xlsx contiene columnas vacías: ['Unnamed: 1']\n",
            "\n",
            "===== Santarosa.xlsx =====\n",
            "Encabezados (limpios):\n",
            "['CODIGO', 'DISTRITO', 'DEPARTAMENTO', 'MUNICIPIO', 'ESTABLECIMIENTO', 'DIRECCION', 'TELEFONO', 'SUPERVISOR', 'DIRECTOR', 'NIVEL', 'SECTOR', 'AREA', 'STATUS', 'MODALIDAD', 'JORNADA', 'PLAN', 'DEPARTAMENTAL']\n",
            "\n",
            "⚠ altaverapaz.xlsx contiene columnas vacías: ['Unnamed: 1']\n",
            "\n",
            "===== altaverapaz.xlsx =====\n",
            "Encabezados (limpios):\n",
            "['CODIGO', 'DISTRITO', 'DEPARTAMENTO', 'MUNICIPIO', 'ESTABLECIMIENTO', 'DIRECCION', 'TELEFONO', 'SUPERVISOR', 'DIRECTOR', 'NIVEL', 'SECTOR', 'AREA', 'STATUS', 'MODALIDAD', 'JORNADA', 'PLAN', 'DEPARTAMENTAL']\n",
            "\n",
            "⚠ bajaverapaz.xlsx contiene columnas vacías: ['Unnamed: 1']\n",
            "\n",
            "===== bajaverapaz.xlsx =====\n",
            "Encabezados (limpios):\n",
            "['CODIGO', 'DISTRITO', 'DEPARTAMENTO', 'MUNICIPIO', 'ESTABLECIMIENTO', 'DIRECCION', 'TELEFONO', 'SUPERVISOR', 'DIRECTOR', 'NIVEL', 'SECTOR', 'AREA', 'STATUS', 'MODALIDAD', 'JORNADA', 'PLAN', 'DEPARTAMENTAL']\n",
            "\n",
            "⚠ chimaltenango.xlsx contiene columnas vacías: ['Unnamed: 1']\n",
            "\n",
            "===== chimaltenango.xlsx =====\n",
            "Encabezados (limpios):\n",
            "['CODIGO', 'DISTRITO', 'DEPARTAMENTO', 'MUNICIPIO', 'ESTABLECIMIENTO', 'DIRECCION', 'TELEFONO', 'SUPERVISOR', 'DIRECTOR', 'NIVEL', 'SECTOR', 'AREA', 'STATUS', 'MODALIDAD', 'JORNADA', 'PLAN', 'DEPARTAMENTAL']\n",
            "\n",
            "⚠ chiquimula.xlsx contiene columnas vacías: ['Unnamed: 1']\n",
            "\n",
            "===== chiquimula.xlsx =====\n",
            "Encabezados (limpios):\n",
            "['CODIGO', 'DISTRITO', 'DEPARTAMENTO', 'MUNICIPIO', 'ESTABLECIMIENTO', 'DIRECCION', 'TELEFONO', 'SUPERVISOR', 'DIRECTOR', 'NIVEL', 'SECTOR', 'AREA', 'STATUS', 'MODALIDAD', 'JORNADA', 'PLAN', 'DEPARTAMENTAL']\n",
            "\n",
            "⚠ escuintla.xlsx contiene columnas vacías: ['Unnamed: 1']\n",
            "\n",
            "===== escuintla.xlsx =====\n",
            "Encabezados (limpios):\n",
            "['CODIGO', 'DISTRITO', 'DEPARTAMENTO', 'MUNICIPIO', 'ESTABLECIMIENTO', 'DIRECCION', 'TELEFONO', 'SUPERVISOR', 'DIRECTOR', 'NIVEL', 'SECTOR', 'AREA', 'STATUS', 'MODALIDAD', 'JORNADA', 'PLAN', 'DEPARTAMENTAL']\n",
            "\n",
            "⚠ huehuetenango.xlsx contiene columnas vacías: ['Unnamed: 1']\n",
            "\n",
            "===== huehuetenango.xlsx =====\n",
            "Encabezados (limpios):\n",
            "['CODIGO', 'DISTRITO', 'DEPARTAMENTO', 'MUNICIPIO', 'ESTABLECIMIENTO', 'DIRECCION', 'TELEFONO', 'SUPERVISOR', 'DIRECTOR', 'NIVEL', 'SECTOR', 'AREA', 'STATUS', 'MODALIDAD', 'JORNADA', 'PLAN', 'DEPARTAMENTAL']\n",
            "\n",
            "⚠ jalapa.xlsx contiene columnas vacías: ['Unnamed: 1']\n",
            "\n",
            "===== jalapa.xlsx =====\n",
            "Encabezados (limpios):\n",
            "['CODIGO', 'DISTRITO', 'DEPARTAMENTO', 'MUNICIPIO', 'ESTABLECIMIENTO', 'DIRECCION', 'TELEFONO', 'SUPERVISOR', 'DIRECTOR', 'NIVEL', 'SECTOR', 'AREA', 'STATUS', 'MODALIDAD', 'JORNADA', 'PLAN', 'DEPARTAMENTAL']\n",
            "\n",
            "⚠ jutiapa.xlsx contiene columnas vacías: ['Unnamed: 1']\n",
            "\n",
            "===== jutiapa.xlsx =====\n",
            "Encabezados (limpios):\n",
            "['CODIGO', 'DISTRITO', 'DEPARTAMENTO', 'MUNICIPIO', 'ESTABLECIMIENTO', 'DIRECCION', 'TELEFONO', 'SUPERVISOR', 'DIRECTOR', 'NIVEL', 'SECTOR', 'AREA', 'STATUS', 'MODALIDAD', 'JORNADA', 'PLAN', 'DEPARTAMENTAL']\n",
            "\n",
            "⚠ peten.xlsx contiene columnas vacías: ['Unnamed: 1']\n",
            "\n",
            "===== peten.xlsx =====\n",
            "Encabezados (limpios):\n",
            "['CODIGO', 'DISTRITO', 'DEPARTAMENTO', 'MUNICIPIO', 'ESTABLECIMIENTO', 'DIRECCION', 'TELEFONO', 'SUPERVISOR', 'DIRECTOR', 'NIVEL', 'SECTOR', 'AREA', 'STATUS', 'MODALIDAD', 'JORNADA', 'PLAN', 'DEPARTAMENTAL']\n",
            "\n",
            "⚠ retalhuleu.xlsx contiene columnas vacías: ['Unnamed: 1']\n",
            "\n",
            "===== retalhuleu.xlsx =====\n",
            "Encabezados (limpios):\n",
            "['CODIGO', 'DISTRITO', 'DEPARTAMENTO', 'MUNICIPIO', 'ESTABLECIMIENTO', 'DIRECCION', 'TELEFONO', 'SUPERVISOR', 'DIRECTOR', 'NIVEL', 'SECTOR', 'AREA', 'STATUS', 'MODALIDAD', 'JORNADA', 'PLAN', 'DEPARTAMENTAL']\n",
            "\n",
            "⚠ sacatepequez.xlsx contiene columnas vacías: ['Unnamed: 1']\n",
            "\n",
            "===== sacatepequez.xlsx =====\n",
            "Encabezados (limpios):\n",
            "['CODIGO', 'DISTRITO', 'DEPARTAMENTO', 'MUNICIPIO', 'ESTABLECIMIENTO', 'DIRECCION', 'TELEFONO', 'SUPERVISOR', 'DIRECTOR', 'NIVEL', 'SECTOR', 'AREA', 'STATUS', 'MODALIDAD', 'JORNADA', 'PLAN', 'DEPARTAMENTAL']\n",
            "\n",
            "⚠ solola.xlsx contiene columnas vacías: ['Unnamed: 1']\n",
            "\n",
            "===== solola.xlsx =====\n",
            "Encabezados (limpios):\n",
            "['CODIGO', 'DISTRITO', 'DEPARTAMENTO', 'MUNICIPIO', 'ESTABLECIMIENTO', 'DIRECCION', 'TELEFONO', 'SUPERVISOR', 'DIRECTOR', 'NIVEL', 'SECTOR', 'AREA', 'STATUS', 'MODALIDAD', 'JORNADA', 'PLAN', 'DEPARTAMENTAL']\n",
            "\n",
            "⚠ suchitepequez.xlsx contiene columnas vacías: ['Unnamed: 1']\n",
            "\n",
            "===== suchitepequez.xlsx =====\n",
            "Encabezados (limpios):\n",
            "['CODIGO', 'DISTRITO', 'DEPARTAMENTO', 'MUNICIPIO', 'ESTABLECIMIENTO', 'DIRECCION', 'TELEFONO', 'SUPERVISOR', 'DIRECTOR', 'NIVEL', 'SECTOR', 'AREA', 'STATUS', 'MODALIDAD', 'JORNADA', 'PLAN', 'DEPARTAMENTAL']\n",
            "\n",
            "⚠ totonicapan.xlsx contiene columnas vacías: ['Unnamed: 1']\n",
            "\n",
            "===== totonicapan.xlsx =====\n",
            "Encabezados (limpios):\n",
            "['CODIGO', 'DISTRITO', 'DEPARTAMENTO', 'MUNICIPIO', 'ESTABLECIMIENTO', 'DIRECCION', 'TELEFONO', 'SUPERVISOR', 'DIRECTOR', 'NIVEL', 'SECTOR', 'AREA', 'STATUS', 'MODALIDAD', 'JORNADA', 'PLAN', 'DEPARTAMENTAL']\n",
            "\n",
            "⚠ zacapa.xlsx contiene columnas vacías: ['Unnamed: 1']\n",
            "\n",
            "===== zacapa.xlsx =====\n",
            "Encabezados (limpios):\n",
            "['CODIGO', 'DISTRITO', 'DEPARTAMENTO', 'MUNICIPIO', 'ESTABLECIMIENTO', 'DIRECCION', 'TELEFONO', 'SUPERVISOR', 'DIRECTOR', 'NIVEL', 'SECTOR', 'AREA', 'STATUS', 'MODALIDAD', 'JORNADA', 'PLAN', 'DEPARTAMENTAL']\n"
          ]
        }
      ]
    },
    {
      "cell_type": "markdown",
      "source": [
        "## Compara si cada archivo tiene las misma columnas"
      ],
      "metadata": {
        "id": "8IarzqigU1RW"
      }
    },
    {
      "cell_type": "code",
      "source": [
        "res = pd.DataFrame(encabezados_por_archivo)\n",
        "\n",
        "# Encuentra el \"esquema modal\" (el conjunto de columnas normalizadas más frecuente)\n",
        "conteo_sets = res[\"set_normalizado\"].value_counts()\n",
        "esquema_modal = conteo_sets.index[0] if not conteo_sets.empty else tuple()\n",
        "print(\"\\n\\n=== Resumen de esquemas ===\")\n",
        "print(conteo_sets)\n",
        "\n",
        "# Marca si cada archivo coincide con el esquema modal\n",
        "res[\"coincide_modal\"] = res[\"set_normalizado\"].apply(lambda s: s == esquema_modal)\n",
        "\n",
        "# Para ver rápidamente quiénes NO coinciden\n",
        "no_match = res[~res[\"coincide_modal\"]].copy()\n",
        "\n",
        "print(\"\\nArchivos que NO coinciden con el esquema modal:\")\n",
        "if no_match.empty:\n",
        "    print(\"✅ Todos coinciden con el mismo conjunto de encabezados (normalizados).\")\n",
        "else:\n",
        "    for _, row in no_match.iterrows():\n",
        "        base = set(esquema_modal)\n",
        "        actual = set(row[\"set_normalizado\"])\n",
        "        faltantes = sorted(list(base - actual))\n",
        "        extras = sorted(list(actual - base))\n",
        "        print(f\"\\n• {row['archivo']}\")\n",
        "        print(\"  - Faltan (vs modal):\", faltantes if faltantes else \"—\")\n",
        "        print(\"  - Extras (vs modal):\", extras if extras else \"—\")\n"
      ],
      "metadata": {
        "colab": {
          "base_uri": "https://localhost:8080/"
        },
        "id": "AherfnrlT7qn",
        "outputId": "f808624d-a0df-4e42-d46b-cf2209510782"
      },
      "execution_count": 7,
      "outputs": [
        {
          "output_type": "stream",
          "name": "stdout",
          "text": [
            "\n",
            "\n",
            "=== Resumen de esquemas ===\n",
            "set_normalizado\n",
            "(area, codigo, departamental, departamento, direccion, director, distrito, establecimiento, jornada, modalidad, municipio, nivel, plan, sector, status, supervisor, telefono)    23\n",
            "Name: count, dtype: int64\n",
            "\n",
            "Archivos que NO coinciden con el esquema modal:\n",
            "✅ Todos coinciden con el mismo conjunto de encabezados (normalizados).\n"
          ]
        }
      ]
    },
    {
      "cell_type": "code",
      "source": [],
      "metadata": {
        "id": "slCCfWfxU7-3"
      },
      "execution_count": null,
      "outputs": []
    }
  ]
}